{
 "cells": [
  {
   "cell_type": "markdown",
   "metadata": {},
   "source": [
    "#Validating an channel model IV curve with data from an experiment"
   ]
  },
  {
   "cell_type": "code",
   "execution_count": 1,
   "metadata": {},
   "outputs": [],
   "source": [
    "# Imports and preliminaries.  \n",
    "%matplotlib inline\n",
    "import os,sys\n",
    "import numpy as np\n",
    "\n",
    "CW_HOME = '/Users/rgerkin/Dropbox/dev/ChannelWorm' # Location of your ChannelWorm repo with the 'tests'\n",
    "                                                   # branch checked out. \n",
    "   \n",
    "sys.path.insert(1,CW_HOME)\n",
    "sys.path.insert(1,'/Users/rgerkin/dev/neuronunit')"
   ]
  },
  {
   "cell_type": "markdown",
   "metadata": {},
   "source": [
    "##Compare the IV curve predicted from the channel model to that observed from the data"
   ]
  },
  {
   "cell_type": "code",
   "execution_count": 2,
   "metadata": {},
   "outputs": [],
   "source": [
    "from neuronunit.tests.channel import IVCurvePeakTest\n",
    "from neuronunit.models.channel import ChannelModel\n",
    "# Warning message comes from NeuroTools, soon to be replaced by Elephant.  Ignore."
   ]
  },
  {
   "cell_type": "code",
   "execution_count": 3,
   "metadata": {},
   "outputs": [],
   "source": [
    "# Instantiate the model\n",
    "channel_model_name = 'EGL-19.channel'\n",
    "channel_id = 'ca_boyle'\n",
    "channel_file_path = os.path.join(CW_HOME,'models','%s.nml' % channel_model_name)\n",
    "\n",
    "model = ChannelModel(channel_file_path,channel_index=0,name=channel_model_name)"
   ]
  },
  {
   "cell_type": "code",
   "execution_count": null,
   "metadata": {},
   "outputs": [],
   "source": [
    "# Get the experiment data from ChannelWorm and instantiate the test\n",
    "\n",
    "import os, sys\n",
    "import django\n",
    "\n",
    "sys.path.append(\"../channelworm\") # Change the path if needed\n",
    "os.environ.setdefault(\n",
    "    \"DJANGO_SETTINGS_MODULE\",\n",
    "    \"web_app.settings\"\n",
    ")\n",
    "django.setup()\n",
    "\n",
    "from ion_channel.models import GraphData\n",
    "\n",
    "doi = '10.1083/jcb.200203055'\n",
    "fig = '2B'\n",
    "sample_data = GraphData.objects.get(graph__experiment__reference__doi=doi, graph__figure_ref_address=fig)\n",
    "obs = list(zip(*sample_data.asarray())) \n",
    "observation = {'i':obs[0], 'v':obs[1]}\n",
    "\n",
    "test = IVCurvePeakTest(observation)"
   ]
  },
  {
   "cell_type": "code",
   "execution_count": 5,
   "metadata": {},
   "outputs": [
    {
     "name": "stdout",
     "output_type": "stream",
     "text": [
      "=== Model Cav1.channel (ChannelModel) achieved score Fail on test 'IV Curve Test (IVCurvePeakTest)'. ===\n",
      "The score was computed according to 'The sum-squared difference in the observed and predicted current values over the range of the tested holding potentials.' with raw value 1068 pA^2\n"
     ]
    }
   ],
   "source": [
    "# Judge the model output against the experimental data\n",
    "score = test.judge(model)\n",
    "score.summarize()\n",
    "print(\"The score was computed according to '%s' with raw value %s\" % (score.description,score.value))"
   ]
  },
  {
   "cell_type": "code",
   "execution_count": 6,
   "metadata": {},
   "outputs": [
    {
     "data": {
      "image/png": "[encoded data removed]"
     },
     "output_type": "display_data",
     "metadata": {}
    }
   ],
   "source": [
    "rd = score.related_data\n",
    "score.plot(rd['v'],rd['i_obs'],color='k',label='Observed (data)')\n",
    "score.plot(rd['v'],rd['i_pred'],same_fig=True,color='r',label='Predicted (model)')"
   ]
  }
 ],
 "metadata": {
  "kernelspec": {
   "display_name": "Python 3",
   "language": "python",
   "name": "python3"
  },
  "language_info": {
   "codemirror_mode": {
    "name": "ipython",
    "version": 3.0
   },
   "file_extension": ".py",
   "mimetype": "text/x-python",
   "name": "python",
   "nbconvert_exporter": "python",
   "pygments_lexer": "ipython3",
   "version": "3.4.1"
  }
 },
 "nbformat": 4,
 "nbformat_minor": 0
}
