{
 "cells": [
  {
   "cell_type": "code",
   "execution_count": 1,
   "metadata": {
    "collapsed": true
   },
   "outputs": [],
   "source": [
    "# gsarma and travs 5/2015\n",
    "# Doing some hello world testing with sciunit\n",
    "# notebook from rgerkin\n",
    "# http://nbviewer.ipython.org/github/scidash/neuronunit/blob/master/scratch.ipynb"
   ]
  },
  {
   "cell_type": "code",
   "execution_count": 2,
   "metadata": {
    "collapsed": true
   },
   "outputs": [],
   "source": [
    "%matplotlib inline\n",
    "import os,sys"
   ]
  },
  {
   "cell_type": "markdown",
   "metadata": {},
   "source": [
    "## Basic SciUnit model testing examples"
   ]
  },
  {
   "cell_type": "code",
   "execution_count": 3,
   "metadata": {
    "collapsed": true
   },
   "outputs": [],
   "source": [
    "import sciunit, sciunit.capabilities, sciunit.models, sciunit.scores"
   ]
  },
  {
   "cell_type": "code",
   "execution_count": 4,
   "metadata": {
    "collapsed": true
   },
   "outputs": [],
   "source": [
    "class EqualsTest(sciunit.Test):\n",
    "    \"\"\"Produces a boolean score if the model predicts \n",
    "    the same number as the observation.\"\"\"   \n",
    "    required_capabilities = (sciunit.capabilities.ProducesNumber,)\n",
    "    \n",
    "    def generate_prediction(self, model):\n",
    "        return model.produce_number()\n",
    "    \n",
    "    score_type = sciunit.scores.BooleanScore\n",
    "    def compute_score(self, observation, prediction):\n",
    "        return self.score_type(observation == prediction)"
   ]
  },
  {
   "cell_type": "code",
   "execution_count": 5,
   "metadata": {
    "collapsed": false
   },
   "outputs": [
    {
     "name": "stdout",
     "output_type": "stream",
     "text": [
      "EqualsTest (EqualsTest) EqualsTest (EqualsTest)\n"
     ]
    }
   ],
   "source": [
    "equals_one_test = EqualsTest(1)\n",
    "equals_two_test = EqualsTest(2)\n",
    "print(equals_one_test, equals_two_test)"
   ]
  },
  {
   "cell_type": "code",
   "execution_count": 6,
   "metadata": {
    "collapsed": false
   },
   "outputs": [
    {
     "name": "stdout",
     "output_type": "stream",
     "text": [
      "ConstModel (ConstModel) ConstModel (ConstModel) ConstModel (ConstModel)\n"
     ]
    }
   ],
   "source": [
    "one_model = sciunit.models.ConstModel(1)\n",
    "two_model = sciunit.models.ConstModel(2)\n",
    "three_model = sciunit.models.ConstModel(3)\n",
    "print(one_model, two_model, three_model)"
   ]
  },
  {
   "cell_type": "code",
   "execution_count": 7,
   "metadata": {
    "collapsed": false
   },
   "outputs": [
    {
     "name": "stdout",
     "output_type": "stream",
     "text": [
      "Pass Fail\n"
     ]
    }
   ],
   "source": [
    "one_one_score = equals_one_test.judge(one_model)\n",
    "one_two_score = equals_two_test.judge(one_model)\n",
    "print(one_one_score, one_two_score)"
   ]
  },
  {
   "cell_type": "code",
   "execution_count": 8,
   "metadata": {
    "collapsed": false
   },
   "outputs": [
    {
     "name": "stdout",
     "output_type": "stream",
     "text": [
      "ConstModel (ConstModel) EqualsTest (EqualsTest)\n"
     ]
    }
   ],
   "source": [
    "print(one_one_score.model, one_one_score.test)"
   ]
  },
  {
   "cell_type": "code",
   "execution_count": 9,
   "metadata": {
    "collapsed": true
   },
   "outputs": [],
   "source": [
    "suite = sciunit.TestSuite(\"suite\", [equals_one_test, equals_two_test])"
   ]
  },
  {
   "cell_type": "code",
   "execution_count": 10,
   "metadata": {
    "collapsed": false
   },
   "outputs": [
    {
     "name": "stdout",
     "output_type": "stream",
     "text": [
      "(Pass, Fail, Fail)\n",
      "(Fail, Pass)\n"
     ]
    }
   ],
   "source": [
    "matrix = suite.judge([one_model, two_model, three_model])\n",
    "print(matrix[equals_one_test])\n",
    "print(matrix[two_model])"
   ]
  },
  {
   "cell_type": "code",
   "execution_count": 11,
   "metadata": {
    "collapsed": false
   },
   "outputs": [
    {
     "data": {
      "text/html": [
       "\n",
       "  \t<table>\n",
       "  \t  <thead><tr><th></th><th>EqualsTest (EqualsTest)</th>\r",
       "<th>EqualsTest (EqualsTest)</th></tr></thead>\n",
       "  \t  <tbody><tr><td>ConstModel (ConstModel)</td><td>Pass</td>\r",
       "<td>Fail</td></tr>\r",
       "<tr><td>ConstModel (ConstModel)</td><td>Fail</td>\r",
       "<td>Pass</td></tr>\r",
       "<tr><td>ConstModel (ConstModel)</td><td>Fail</td>\r",
       "<td>Fail</td></tr></tbody>\n",
       "  \t</table>"
      ],
      "text/plain": [
       "<IPython.core.display.HTML object>"
      ]
     },
     "execution_count": 11,
     "metadata": {},
     "output_type": "execute_result"
    }
   ],
   "source": [
    "matrix.view()"
   ]
  },
  {
   "cell_type": "markdown",
   "metadata": {},
   "source": [
    "##Running models and getting IV output using neuronunit and pyNeuroML"
   ]
  },
  {
   "cell_type": "code",
   "execution_count": 12,
   "metadata": {
    "collapsed": false
   },
   "outputs": [],
   "source": [
    "try:\n",
    "    import neuronunit\n",
    "except ImportError: # NeuronUnit is not in PYTHONPATH.  \n",
    "    HOME = '/Users/rgerkin/dev'\n",
    "    sys.path.append(HOME) # Path where neuronunit is located. \n",
    "    import neuronunit\n",
    "    \n",
    "try:\n",
    "    import pyneuroml\n",
    "except ImportError:\n",
    "    HOME = '/Users/rgerkin/dev'\n",
    "    sys.path.append(HOME+'/pyNeuroML') # Path where pyneuroml is located. \n",
    "    import pyneuroml"
   ]
  },
  {
   "cell_type": "code",
   "execution_count": 13,
   "metadata": {
    "collapsed": false
   },
   "outputs": [
    {
     "name": "stdout",
     "output_type": "stream",
     "text": [
      "\n",
      "\n"
     ]
    }
   ],
   "source": [
    "from neuronunit.nml import jnml"
   ]
  },
  {
   "cell_type": "code",
   "execution_count": 14,
   "metadata": {
    "collapsed": false
   },
   "outputs": [],
   "source": [
    "from pyneuroml.analysis import NML2ChannelAnalysis"
   ]
  },
  {
   "cell_type": "code",
   "execution_count": 15,
   "metadata": {
    "collapsed": false
   },
   "outputs": [],
   "source": [
    "ca_channel_nml = os.path.join(HOME,'ChannelWorm_tests/models/Cav1.channel.nml')\n",
    "channel_id = 'ca_boyle'\n",
    "xml_file_name = NML2ChannelAnalysis.run(channelFiles=[ca_channel_nml],\n",
    "                                        channelId=channel_id,\n",
    "                                        temperature=34,\n",
    "                                        minV=-55,\n",
    "                                        maxV=80,\n",
    "                                        duration=1000,\n",
    "                                        clampBaseVoltage=-55,\n",
    "                                        clampDelay=50,\n",
    "                                        clampDuration=580,\n",
    "                                        stepTargetVoltage=10,\n",
    "                                        erev=50,\n",
    "                                        caConc=0.001,\n",
    "                                        ivCurve=True,\n",
    "                                        nogui=True,\n",
    "                                        v=False)"
   ]
  },
  {
   "cell_type": "code",
   "execution_count": 16,
   "metadata": {
    "collapsed": false
   },
   "outputs": [],
   "source": [
    "import numpy as np\n",
    "IV_pred = jnml.load_dat('%s.i_steady' % channel_id)\n",
    "v_pred,i_pred = [IV_pred[i] for i in (0,1)]\n",
    "v_pred *= 1000 # Convert from V to mV\n",
    "i_pred *= -1e12 # Convert from A to pA and change sign to match convention\n",
    "indices = np.argsort(v_pred)\n",
    "v_pred = v_pred[indices]\n",
    "i_pred = i_pred[indices]"
   ]
  },
  {
   "cell_type": "markdown",
   "metadata": {},
   "source": [
    "##Getting observed data using ChannelWorm.cwFitter"
   ]
  },
  {
   "cell_type": "code",
   "execution_count": 17,
   "metadata": {
    "collapsed": true
   },
   "outputs": [],
   "source": [
    "from ChannelWorm_master.ChannelWorm import cwFitter\n",
    "from ChannelWorm_master.ChannelWorm.cwFitter import Initiator"
   ]
  },
  {
   "cell_type": "code",
   "execution_count": 18,
   "metadata": {
    "collapsed": false
   },
   "outputs": [],
   "source": [
    "path = os.path.split(cwFitter.__file__)[0]\n",
    "csv_path = path+'/examples/egl-19-IClamp-IV.csv'\n",
    "ref = {'fig':'2B','doi':'10.1083/jcb.200203055'}\n",
    "x_var = {'type':'Voltage','unit':'V','toSI':1}\n",
    "y_var = {'type':'Current','unit':'A/F','toSI':1}\n",
    "IV = {'ref':ref,'csv_path':csv_path,'x_var':x_var,'y_var':y_var}\n",
    "user_data = {'samples': {'IV': IV}}\n",
    "myInitiator = Initiator.Initiator(user_data)\n",
    "sample_data = myInitiator.getSampleParameters()"
   ]
  },
  {
   "cell_type": "code",
   "execution_count": 19,
   "metadata": {
    "collapsed": false
   },
   "outputs": [],
   "source": [
    "i_obs,v_obs = [np.array(sample_data['IV'][_]) for _ in ('I','V')]\n",
    "v_obs *= 1000 # Convert from V to mV"
   ]
  },
  {
   "cell_type": "markdown",
   "metadata": {},
   "source": [
    "##Compare the predicted to the observed"
   ]
  },
  {
   "cell_type": "code",
   "execution_count": 20,
   "metadata": {
    "collapsed": false
   },
   "outputs": [],
   "source": [
    "# Interpolate\n",
    "from scipy.interpolate import interp1d\n",
    "start = max(v_obs[0],v_pred[0]) # Min voltage in mV\n",
    "stop = min(v_obs[-1],v_pred[-1]) # mV\n",
    "v_new = np.linspace(start, stop, 100) # 1 mV interpolation.  \n",
    "f_obs = interp1d(v_obs, i_obs, kind='cubic')\n",
    "f_pred = interp1d(v_pred, i_pred, kind='cubic')\n",
    "i_obs_interp = f_obs(v_new)\n",
    "i_pred_interp = f_pred(v_new)"
   ]
  },
  {
   "cell_type": "code",
   "execution_count": 21,
   "metadata": {
    "collapsed": false
   },
   "outputs": [
    {
     "data": {
      "image/png": "[encoded data removed]",
      "text/plain": [
       "<matplotlib.figure.Figure at 0x108073da0>"
      ]
     },
     "metadata": {},
     "output_type": "display_data"
    }
   ],
   "source": [
    "# Plot the interpolated I-V curves.  \n",
    "import matplotlib.pyplot as plt\n",
    "fig = plt.figure()\n",
    "plt.plot(v_new,i_obs_interp,color='k')\n",
    "plt.plot(v_new,i_pred_interp,color='r')\n",
    "plt.xlabel('Voltage (mV)')\n",
    "plt.ylabel('Current (pA)')\n",
    "plt.xlim(start,stop)\n",
    "fig.set_size_inches(4,10)"
   ]
  },
  {
   "cell_type": "code",
   "execution_count": 22,
   "metadata": {
    "collapsed": false
   },
   "outputs": [
    {
     "name": "stdout",
     "output_type": "stream",
     "text": [
      "The sum of the squared differences is 1197 mV^2\n"
     ]
    }
   ],
   "source": [
    "# Sum of the difference between the curves.\n",
    "sse = np.sum((i_obs_interp - i_pred_interp)**2)\n",
    "print(\"The sum of the squared differences is %.4g mV^2\" % sse)"
   ]
  }
 ],
 "metadata": {
  "kernelspec": {
   "display_name": "Python 3",
   "language": "python",
   "name": "python3"
  },
  "language_info": {
   "codemirror_mode": {
    "name": "ipython",
    "version": 3
   },
   "file_extension": ".py",
   "mimetype": "text/x-python",
   "name": "python",
   "nbconvert_exporter": "python",
   "pygments_lexer": "ipython3",
   "version": "3.4.1"
  }
 },
 "nbformat": 4,
 "nbformat_minor": 0
}
